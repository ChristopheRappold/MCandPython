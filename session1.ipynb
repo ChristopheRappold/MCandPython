{
 "cells": [
  {
   "cell_type": "markdown",
   "metadata": {},
   "source": [
    "# Introduction to python for numerical calculations\n",
    "\n",
    "\n",
    "### What is python ?\n",
    "\n",
    "-   computer language for general purpose which is an interpreted language. Opposed to compiler language like C or C++\n",
    "-   It allows more flexible syntax and easier learning curve\n",
    "-   free and open source: one of the most popular programming language\n",
    "-   Use for tech. companies (Google, Reddit, Youtube etc&#x2026;) but also in academy: for scientific calculations (data science, ML, astronomy, chemistry &#x2026;)\n",
    "-   Has replace MATLAB in scientific computing. \n",
    "    -   Possesses similar characteristics of MATLAB: many \"modules\"/packages have been developed with very high reliability that are available for free.\n",
    "    -   Example of modules that will be introduced: \n",
    "        -   **Numpy**: array, matrix, multiarray processing and more -> direct replacement of MATLAB\n",
    "        -   **Scipy**: built on Numpy for more numerical algorithms and functionality (statistics)\n",
    "        -   **Matplotlib**: graphics and figure creation\n",
    "        -   **Pandas**: data manipulations and statistics\n",
    "\n",
    "-   How it will work:\n",
    "\n",
    "There, this is \"*notebook*\" feature of \"*jyputer*\" which will gather this session and within itself the possibility to run and execute python code.\n",
    "It allows an interactive way to execute/modify on the fly cells of computation.\n",
    "\n",
    "### Starting point: Useful basic syntax of the language<a id=\"sec-2-1-2\" name=\"sec-2-1-2\"></a>\n",
    "\n",
    "-   Basic data type:\n",
    "    -   bool : \n",
    "    ```python \n",
    "    True / False \n",
    "    ```\n",
    "    -   int : integer number : \n",
    "    ```python \n",
    "    1\n",
    "    ```\n",
    "    -   float : real number :\n",
    "    ```python \n",
    "    1.1\n",
    "    1.2e-1\n",
    "    ```\n",
    "    -   str : string (chain of characters) : \n",
    "    ```python\n",
    "    \"name\"\n",
    "    ```\n",
    "    -   function <b>type()</b>     -&#9658; gives the type of the input data\n",
    "    \n",
    "    \n",
    "    \n"
   ]
  },
  {
   "cell_type": "code",
   "execution_count": 29,
   "metadata": {},
   "outputs": [
    {
     "name": "stdout",
     "output_type": "stream",
     "text": [
      "True 1 0.011029 chain_of_chars\n",
      "a : <class 'bool'>\n",
      "b : <class 'int'>\n",
      "c : <class 'float'>\n",
      "d : <class 'str'>\n"
     ]
    }
   ],
   "source": [
    "a = True\n",
    "b = 1\n",
    "c = 1.1029e-2\n",
    "d = \"chain_of_chars\"\n",
    "\n",
    "print(a, b, c, d, sep=\" \")\n",
    "\n",
    "print(\"a :\",type(a))\n",
    "print(\"b :\",type(b))\n",
    "print(\"c :\",type(c))\n",
    "print(\"d :\",type(d))"
   ]
  },
  {
   "cell_type": "markdown",
   "metadata": {},
   "source": [
    "---\n",
    "-   List: A list of basic data or other more complex structures \n",
    "    -   within \"**[**\" \"**]**\" separated by commas \"**,**\" : \n",
    "    ```python\n",
    "    [1, 2, 3]\n",
    "    ```\n",
    "    -   They are not \"arrays\" or vectors in the MATLAB sense\n",
    "    -   mutable data structure : \n",
    "        -   can be accessed via index (starting **always** from 0): \n",
    "        ```python\n",
    "        a = [1,2,3,4,5,6,7,8,9]\n",
    "        a[0]  # first\n",
    "        a[-1] # last\n",
    "        a[1:3] #-> [2,3]\n",
    "        ```\n",
    "        -   can be extended: \n",
    "        ```python\n",
    "        [1,2] + [3] #-> [1, 2, 3]\n",
    "        [1, 2].append(3) #-> [1, 2, 3]\n",
    "        ```\n",
    "        -   can be shrink: \n",
    "        ```python\n",
    "        a = [1, 2, 3] \n",
    "        a.pop(2)\n",
    "        ```\n",
    "        -   can be repeated: \n",
    "        ```python\n",
    "        [1,2]*3 #-> [1,2,1,2,1,2]\n",
    "         ```\n"
   ]
  },
  {
   "cell_type": "code",
   "execution_count": 27,
   "metadata": {},
   "outputs": [
    {
     "name": "stdout",
     "output_type": "stream",
     "text": [
      "type of list : <class 'list'> \n",
      "\n",
      " first : 1  last : 9  subrange:  [2, 3] \n",
      "\n",
      "concantenation : [1, 2, 3, 4, 5, 6, 7, 8, 9, 10, 11, 12]   or :  [1, 2, 2, 3, -1] \n",
      "\n",
      "repeat : [1, 2, 2, 3, -1, 1, 2, 2, 3, -1]\n"
     ]
    }
   ],
   "source": [
    "print(\"type of list :\",type([1,2,3]), \"\\n\")\n",
    "\n",
    "a = [1,2,3,4,5,6,7,8,9]\n",
    "\n",
    "print(\" first :\",a[0],\" last :\", a[-1], \" subrange: \", a[1:3], \"\\n\")\n",
    "\n",
    "b = [10,11,12]\n",
    "\n",
    "c = [1,2,2,3]\n",
    "c.append(-1)\n",
    "print(\"concantenation :\" ,a+b, \"  or : \", c, \"\\n\")\n",
    "\n",
    "print(\"repeat :\", c*2)\n"
   ]
  },
  {
   "cell_type": "markdown",
   "metadata": {},
   "source": [
    "---\n",
    "-   Tuple: Like a list but immutable !\n",
    "    -   within \"**(**\" \"**)**\" separated by commas \"**,**\" : \n",
    "    ```python\n",
    "    (1, 2, 3)\n",
    "    ```\n",
    "    -   can be set also without the \"(\" \")\" like this : \n",
    "    ```python \n",
    "    x = 1,2,3\n",
    "    ```\n",
    "    -   can be accessed but once set a tuple cannot be modified\n",
    "    -   Unpacking : \n",
    "    ```python \n",
    "    a,b,c = (1,2,3) # -> a = 1 b = 2 c = 3\n",
    "    ```"
   ]
  },
  {
   "cell_type": "code",
   "execution_count": 31,
   "metadata": {},
   "outputs": [
    {
     "name": "stdout",
     "output_type": "stream",
     "text": [
      "(1, 2, 3)\n"
     ]
    },
    {
     "ename": "TypeError",
     "evalue": "'tuple' object does not support item assignment",
     "output_type": "error",
     "traceback": [
      "\u001b[0;31m---------------------------------------------------------------------------\u001b[0m",
      "\u001b[0;31mTypeError\u001b[0m                                 Traceback (most recent call last)",
      "\u001b[0;32m<ipython-input-31-b126f96fea44>\u001b[0m in \u001b[0;36m<module>\u001b[0;34m()\u001b[0m\n\u001b[1;32m      2\u001b[0m \u001b[0ma\u001b[0m \u001b[0;34m=\u001b[0m \u001b[0;34m(\u001b[0m\u001b[0;36m1\u001b[0m\u001b[0;34m,\u001b[0m\u001b[0;36m2\u001b[0m\u001b[0;34m,\u001b[0m\u001b[0;36m3\u001b[0m\u001b[0;34m)\u001b[0m\u001b[0;34m\u001b[0m\u001b[0m\n\u001b[1;32m      3\u001b[0m \u001b[0mprint\u001b[0m\u001b[0;34m(\u001b[0m\u001b[0ma\u001b[0m\u001b[0;34m)\u001b[0m\u001b[0;34m\u001b[0m\u001b[0m\n\u001b[0;32m----> 4\u001b[0;31m \u001b[0ma\u001b[0m\u001b[0;34m[\u001b[0m\u001b[0;36m0\u001b[0m\u001b[0;34m]\u001b[0m \u001b[0;34m=\u001b[0m \u001b[0;36m1\u001b[0m\u001b[0;34m\u001b[0m\u001b[0m\n\u001b[0m\u001b[1;32m      5\u001b[0m \u001b[0mprint\u001b[0m\u001b[0;34m(\u001b[0m\u001b[0;34m\"unpacking:\"\u001b[0m\u001b[0;34m)\u001b[0m\u001b[0;34m\u001b[0m\u001b[0m\n\u001b[1;32m      6\u001b[0m \u001b[0mx\u001b[0m\u001b[0;34m,\u001b[0m\u001b[0my\u001b[0m\u001b[0;34m,\u001b[0m\u001b[0mz\u001b[0m \u001b[0;34m=\u001b[0m \u001b[0ma\u001b[0m\u001b[0;34m\u001b[0m\u001b[0m\n",
      "\u001b[0;31mTypeError\u001b[0m: 'tuple' object does not support item assignment"
     ]
    }
   ],
   "source": [
    "type((1,2,3))\n",
    "a = (1,2,3)\n",
    "print(a)\n",
    "print(\"unpacking:\")\n",
    "x,y,z = a\n",
    "print(\" x:\",x,\" y:\",y,\" z:\",z)"
   ]
  },
  {
   "cell_type": "code",
   "execution_count": 34,
   "metadata": {},
   "outputs": [
    {
     "ename": "TypeError",
     "evalue": "'tuple' object does not support item assignment",
     "output_type": "error",
     "traceback": [
      "\u001b[0;31m---------------------------------------------------------------------------\u001b[0m",
      "\u001b[0;31mTypeError\u001b[0m                                 Traceback (most recent call last)",
      "\u001b[0;32m<ipython-input-34-07da7ff7317f>\u001b[0m in \u001b[0;36m<module>\u001b[0;34m()\u001b[0m\n\u001b[0;32m----> 1\u001b[0;31m \u001b[0ma\u001b[0m\u001b[0;34m[\u001b[0m\u001b[0;36m0\u001b[0m\u001b[0;34m]\u001b[0m \u001b[0;34m=\u001b[0m \u001b[0;36m1\u001b[0m \u001b[0;31m# immutable !! can not be changed !\u001b[0m\u001b[0;34m\u001b[0m\u001b[0m\n\u001b[0m",
      "\u001b[0;31mTypeError\u001b[0m: 'tuple' object does not support item assignment"
     ]
    }
   ],
   "source": [
    "a[0] = 1 # immutable !! can not be changed !"
   ]
  },
  {
   "cell_type": "markdown",
   "metadata": {},
   "source": [
    "---\n",
    "-   Dictionary: Like a list but not index by number but by keys that can be anything -&#9658; no specific order\n",
    "    -   example:\n",
    "    ```python\n",
    "    d = {\"name\": \"christophe\", \"age\": 35}\n",
    "    ```\n",
    "    -   Access via the keys : \n",
    "    ```python\n",
    "    d[\"name\"]\n",
    "    d[\"age\"]\n",
    "    ``` \n",
    "      + If key does not exists, leads to an error\n",
    "    -   couple (Key, Data) can be added : \n",
    "    ```python\n",
    "    d.update({\"sex\",\"M\"})\n",
    "    ```\n",
    "    or deleted :\n",
    "    ```python\n",
    "    del d[\"age\"]\n",
    "    ```\n",
    "    -   Keys **must be unique !**\n",
    "\n",
    "-   Set: unorereded list with no duplicate\n",
    "    -   example: \n",
    "    ```python\n",
    "    d = {32,33}\n",
    "    ```\n"
   ]
  },
  {
   "cell_type": "code",
   "execution_count": 27,
   "metadata": {},
   "outputs": [
    {
     "name": "stdout",
     "output_type": "stream",
     "text": [
      "{'wednesday': 'MonteCarlo', 'monday': 'python'}\n",
      "key access monday: python\n",
      "\n",
      " all elements:\n",
      "# 0  | key, value: tuesday nothing\n",
      "# 1  | key, value: wednesday MonteCarlo\n",
      "# 2  | key, value: monday python\n"
     ]
    }
   ],
   "source": [
    "Ex_dict = {\"monday\":\"python\" , \"wednesday\":\"MonteCarlo\"}\n",
    "print(Ex_dict)\n",
    "print(\"key access monday:\",Ex_dict[\"monday\"])\n",
    "\n",
    "Ex_dict.update({\"tuesday\":\"nothing\"})\n",
    "print(\"\\n all elements:\")\n",
    "for i, item in enumerate(Ex_dict.items()):\n",
    "    key, value = item\n",
    "    print(\"#\",i,\" | key, value:\",key, value)"
   ]
  },
  {
   "cell_type": "markdown",
   "metadata": {},
   "source": [
    "---\n",
    "-   Operators:\n",
    "    -   \"=\" assignment: \n",
    "    ```python\n",
    "    a = 1\n",
    "    ```\n",
    "    -   Rather classic operators on numbers (**+**, **-**, **\\***, **/**), **%** = remainder, modulo: \n",
    "    ```python \n",
    "    1 + 2\n",
    "    2 - 1\n",
    "    11%5\n",
    "    ```\n",
    "    -   Few specifics: in python v2: int **/** int -&#9658; integer division. In python v3 : int **//** int. The** /** is always division in real domain \n",
    "    ```python\n",
    "    3 / 2 # float division\n",
    "    3//2 # int division\n",
    "    ```\n",
    "    -   \"\\*\\*\" = exponent, power: \n",
    "    ```python\n",
    "    2**3\n",
    "    ```\n",
    "    -   on strings :\n",
    "    ```python\n",
    "        \"abc\"+\"xyz\" #-> concatenation.\n",
    "        \"abc, bat, tab\".split(\",\") #-> split a string in a list of substrings\n",
    "        \".\".join([\"a\", \"list\", \"of\", \"string\"]) #-> joining a list of string with in between \".\"\n",
    "        ```\n",
    "-   Comparisons : \n",
    "    + classics : \"**=**\", \"**!=**\", \"**<**\", \"**>**\", \"**<=**\", \"**>=**\", \"**and**\", \"**or**\", \"**not**\" \n",
    "    + \"**in**\": \n",
    "```python\n",
    "\"a\" in \"abc\"\n",
    "1 in [1,2,3]\n",
    "```\n"
   ]
  },
  {
   "cell_type": "code",
   "execution_count": 11,
   "metadata": {},
   "outputs": [
    {
     "name": "stdout",
     "output_type": "stream",
     "text": [
      "a: 2\n",
      "new a: 1\n",
      "3**2 9\n"
     ]
    }
   ],
   "source": [
    "a = 2\n",
    "print(\"a:\",a)\n",
    "a = 1\n",
    "print(\"new a:\",a)\n",
    "print(\"3**2\", 3**2)"
   ]
  },
  {
   "cell_type": "code",
   "execution_count": 13,
   "metadata": {},
   "outputs": [
    {
     "name": "stdout",
     "output_type": "stream",
     "text": [
      "abcxyz\n",
      "['abc', ' bat', ' tab']\n",
      "a.list.of.string\n"
     ]
    }
   ],
   "source": [
    "print(\"abc\"+\"xyz\")\n",
    "print(\"abc, bat, tab\".split(\",\"))\n",
    "print(\".\".join([\"a\", \"list\", \"of\", \"string\"]))"
   ]
  },
  {
   "cell_type": "markdown",
   "metadata": {},
   "source": [
    "---\n",
    "-   Control Flow : \n",
    "    The syntax structure of the python code are based on tabulation when in inner code structure:\n",
    "    -   if/elif/else:\n",
    "    ```python     \n",
    "        a,b,c = 10, 20, 30\n",
    "        if a+b == 30:\n",
    "            print(\"yes\")\n",
    "        elif b != 20:\n",
    "            print(\"b:\",b ,\"is different to 20\")\n",
    "        else:\n",
    "            print(\"what ?\")\n",
    "    ```\n",
    "    -   for loop:\n",
    "    ```python\n",
    "        d = [\"one\",\"two\",\"three\",\"four\"]\n",
    "        for item in d:\n",
    "            print(item)\n",
    "        \n",
    "        for i in range(10):\n",
    "            print(i)\n",
    "      ```  \n",
    "        + internal function \"range\" create a list of number from 0 to 9. \n",
    "        + Complete syntax range(starting,ending,stepping) : \n",
    "        ```python \n",
    "        range(2,8) #from 2 to 7\n",
    "        range(2,8,2) # -> [2,4,6]\n",
    "         ```\n",
    "    -   while loop:\n",
    "    ```python\n",
    "        n = 0\n",
    "        while n<10:\n",
    "            print(n)\n",
    "            n += 1\n",
    "     ```\n",
    "     \n",
    "    -   keyword \"**break**\" and \"**continue**\" : \n",
    "        + \"**break**\" will break the loop and \"**continue**\" will skip the following inner code back to the loop flow instruction\n",
    "        ```python\n",
    "        n = 0\n",
    "        while True:\n",
    "            if n>10:\n",
    "                break\n",
    "            n += 1\n",
    "            ```\n",
    "```python\n",
    "        n = 0\n",
    "        for i in range(10):\n",
    "            if i%3 == 0:\n",
    "                continue\n",
    "            print(i)\n",
    "```\n"
   ]
  },
  {
   "cell_type": "code",
   "execution_count": 44,
   "metadata": {},
   "outputs": [
    {
     "name": "stdout",
     "output_type": "stream",
     "text": [
      "24.0\n",
      "48.0\n",
      "72.0\n",
      "96.0\n",
      "120.0\n",
      "144.0\n",
      "168.0\n",
      "192.0\n",
      "216.0\n",
      "240.0\n"
     ]
    }
   ],
   "source": [
    "for i in range(10):\n",
    "    print(20*1.2*(i+1))\n",
    "    \n",
    "\n"
   ]
  },
  {
   "cell_type": "code",
   "execution_count": 43,
   "metadata": {},
   "outputs": [
    {
     "name": "stdout",
     "output_type": "stream",
     "text": [
      "-2\n",
      "48.0\n",
      "-6\n",
      "-8\n",
      "120.0\n",
      "-12\n",
      "-14\n",
      "192.0\n",
      "-18\n",
      "-20\n"
     ]
    }
   ],
   "source": [
    "for i in range(10):\n",
    "    if i%3 == 1:\n",
    "        print(20*1.2*(i+1))\n",
    "    else:\n",
    "        print(-2*(i+1))"
   ]
  },
  {
   "cell_type": "code",
   "execution_count": 7,
   "metadata": {},
   "outputs": [
    {
     "name": "stdout",
     "output_type": "stream",
     "text": [
      "still inside the while loop  0\n",
      "still inside the while loop  1\n",
      "skipping n= 2\n",
      "still inside the while loop  3\n",
      "still inside the while loop  4\n",
      "still inside the while loop  5\n",
      "still inside the while loop  6\n",
      "still inside the while loop  7\n",
      "still inside the while loop  8\n"
     ]
    }
   ],
   "source": [
    "done = False\n",
    "n = 0\n",
    "while done != True:\n",
    "    if n > 10:\n",
    "        break\n",
    "    elif n == 2:\n",
    "        print(\"skipping n=\",n)\n",
    "        n += 1\n",
    "        continue\n",
    "    \n",
    "    print(\"still inside the while loop \", n)\n",
    "    n += 1\n",
    "    if n == 9:\n",
    "        done = True"
   ]
  },
  {
   "cell_type": "markdown",
   "metadata": {},
   "source": [
    "---\n",
    "-   Functions :\n",
    "    \n",
    "    + How to write/define functions:\n",
    "    ```python\n",
    "    def function(x, y):\n",
    "        return x+y\n",
    "     ```\n",
    "    + Call : \n",
    "    \n",
    "    ```python\n",
    "     function(1,2)\n",
    "    \n",
    "    ```\n",
    "    + The definition of a function starts with **def** keyword, and ending with \"**:**\" \n",
    "    + You must pay attention of the identation ! It is in an inner code therefore must have an tabulation to make the interpreter distinguishes the function inner code to the rest. "
   ]
  },
  {
   "cell_type": "code",
   "execution_count": 32,
   "metadata": {},
   "outputs": [
    {
     "name": "stdout",
     "output_type": "stream",
     "text": [
      "[0, 0, 0]\n",
      "[1, 0, 0]\n",
      "[2, 0, 0]\n",
      "[0, 1, 0]\n",
      "[1, 1, 0]\n"
     ]
    }
   ],
   "source": [
    "def digit_0(max_digit, n):\n",
    "    return (n)%(max_digit+1)\n",
    "\n",
    "def digit_n(max_digit, k, n):\n",
    "    return ((n//((max_digit+1)**k))%(max_digit+1))\n",
    "\n",
    "\n",
    "for i in range(5):\n",
    "    a = [digit_0(2,i), digit_n(2,1,i), digit_n(2,2,i)]\n",
    "    print(a)"
   ]
  },
  {
   "cell_type": "markdown",
   "metadata": {},
   "source": [
    "---\n",
    "-   One last important part of the python language are classes in the sense of object oriented programming.\n",
    "    \n",
    "    A class defines a object structure that gather within data, and functions. \n",
    "    Compares it to a list which would gather datas. A class will be defined by us to extend the language as we see fit.\n",
    "    \n",
    "    The data are access with the operator \".\" like this : \n",
    "    \n",
    "    object\\_name.x -&#9658; access to the data called x inside the object object\\_name defined\n",
    "    \n",
    "    object_name.func(x,y) -&#9658; call the method / function defined within the object. \n",
    "    \n",
    "    Example of definition:\n",
    "    ```python\n",
    "    class Point:\n",
    "        def __init__(self, x_,y_):\n",
    "            self.x = x_\n",
    "            self.y = y_\n",
    "\n",
    "        def Sum():\n",
    "            return self.x+self.y\n",
    "     \n",
    "        def Prod( other_point ):\n",
    "            return self.x*other_point.x + self.y*other_point.y\n",
    "\n",
    "    ```\n",
    "    Example of usage:\n",
    "\n",
    "```python\n",
    "    a1 = Point(2,3)\n",
    "    a2 = Point(-1,2)\n",
    "    a1.Sum()\n",
    "    a1.Prod(a2)\n",
    "```\n",
    "\n"
   ]
  },
  {
   "cell_type": "code",
   "execution_count": 39,
   "metadata": {},
   "outputs": [
    {
     "name": "stdout",
     "output_type": "stream",
     "text": [
      "a1 sum: 5\n",
      "a1 prod a2: 4\n",
      "call method is executed by name_of_object()\n"
     ]
    }
   ],
   "source": [
    "class Point:\n",
    "    def __init__(self, x_,y_):\n",
    "        self.x = x_\n",
    "        self.y = y_\n",
    "\n",
    "    def __call__(self):\n",
    "        print(\"call method is executed by name_of_object()\")\n",
    "        \n",
    "    def Sum(self):\n",
    "        return self.x+self.y\n",
    "\n",
    "    def Prod(self, other_point ):\n",
    "        return self.x*other_point.x + self.y*other_point.y\n",
    "\n",
    "a1 = Point(2,3)\n",
    "a2 = Point(-1,2)\n",
    "print(\"a1 sum:\",a1.Sum())\n",
    "print(\"a1 prod a2:\",a1.Prod(a2))\n",
    "a1()"
   ]
  },
  {
   "cell_type": "markdown",
   "metadata": {},
   "source": [
    "---\n",
    "- Built-in functions already included in the language:\n",
    "    \n",
    "    + numerical : abs(), max(), min(), sum(), pow(), round()\n",
    "    + testing : all(), any(), type()\n",
    "    + enumerate() : very useful : \n",
    "        - -&#9658; extract the sequence items with the index value\n",
    "        ```python \n",
    "        for index, item in [\"one\",\"two\",\"three\",\"four\"]: \n",
    "            print(\"#\",index,\" :\",item) \n",
    "            ```\n",
    "            \n",
    "    + transform data type to others : int(), float(), str(), list(), dict(), set(), tuple()\n",
    "    + print() -&#9658; print the input to the function \n",
    "    + range() -&#9658; give back a list of integer sequences\n",
    "    + list manipulations : filter(), map(), reduce(), slice(), zip() -&#9658; for more functional programming approach\n",
    "    + reversed() -&#9658; return a new list in which the order of the input list is reversed \n",
    "    + sorted() -&#9658; return a new list sorted \n"
   ]
  },
  {
   "cell_type": "code",
   "execution_count": null,
   "metadata": {
    "collapsed": true
   },
   "outputs": [],
   "source": []
  },
  {
   "cell_type": "markdown",
   "metadata": {},
   "source": [
    "### <font color=blue>Some exercices:</font>\n",
    "\n",
    "- Ex 1: Given two sequences (list, tuple or string) s1 and s2, define a function that will check if s1 is identical to s2 (ie. that all elements of s1 are similar to the ones of s2). The function would return \"True\" or \"False\". \n"
   ]
  },
  {
   "cell_type": "code",
   "execution_count": null,
   "metadata": {
    "collapsed": true
   },
   "outputs": [],
   "source": []
  },
  {
   "cell_type": "markdown",
   "metadata": {},
   "source": [
    "- Ex 2: Define a function that calculates recursively the Fibonacci serie at a given n: $x_{n+1} = x_n + x_{n-1}, x_0 = 0, x_1 = 1 $"
   ]
  },
  {
   "cell_type": "code",
   "execution_count": null,
   "metadata": {
    "collapsed": true
   },
   "outputs": [],
   "source": []
  },
  {
   "cell_type": "markdown",
   "metadata": {},
   "source": [
    "- Ex 3: Define a function for calculating given values \"x\" of a polynomial : \n",
    "$ p(x) = \\sum_i a_i\\cdot x^i$"
   ]
  },
  {
   "cell_type": "code",
   "execution_count": null,
   "metadata": {
    "collapsed": true
   },
   "outputs": [],
   "source": []
  },
  {
   "cell_type": "markdown",
   "metadata": {},
   "source": [
    "- Ex 4: Following Ex 3, create a class \"Polynomial\". The class Polynomial will include the coefficients of a given polynomial as instance data. Define the following methods:\n",
    "    + a method call for evaluating the polynomial for a given \"x\"\n",
    "    + a method that gives the derivation of the polynomial. It will return a new Polynomial object in which the coefficients correspond to the derivative $\\frac{dp}{dx}(x)$"
   ]
  },
  {
   "cell_type": "code",
   "execution_count": null,
   "metadata": {
    "collapsed": true
   },
   "outputs": [],
   "source": []
  },
  {
   "cell_type": "markdown",
   "metadata": {},
   "source": [
    "----------------"
   ]
  },
  {
   "cell_type": "markdown",
   "metadata": {},
   "source": [
    "## Numpy \n",
    "\n",
    "- It is a package that was developed for fast processing of arrays (ie. vectors, matrixes, tensors ...)  \n",
    "- It is excellent library for numerical calculations and is widely used in scientific domains: in academy and industry\n",
    "    \n",
    "- Why using such a library: \n",
    "    + Python is a interpreter language and is fundamentally slower than compiled languages by orders of magnetitude. For example in scientific domain for heavy numerical calculations, C, C++ or Fortran are used. \n",
    "    + The numpy library includes highly optimized compiled C or Fortran codes that are called via the numpy namespace.\n",
    "\n",
    "\n",
    "#### How to use:\n",
    "- In python to \"include\" other's codes, packages, or libraries, it is as such :\n",
    "\n",
    "    ```python\n",
    "    import numpy\n",
    "    ```\n",
    "This will import the code of the library numpy in the current scope. \n",
    "- Functions, classes and others defined in the package is then accessed in the similar way that you access to the inner data of a class:\n",
    "    ```python\n",
    "    numpy.exp(a) # -> call the exponential function within the numpy namespace\n",
    "    ```\n",
    "- The name of the module can be aliased to a shorter name. Conventionally \"np\" but it is up-to-you\n",
    "\n",
    "    ```python\n",
    "    import numpy as np\n",
    "\n",
    "    np.exp(a)\n",
    "    ```\n",
    "- Only specific functions or classes defined can also be imported instead of the full library code :\n",
    "\n",
    "    ```python\n",
    "    from nump import exp \n",
    "    ```\n",
    "        \n",
    "#### Numpy: Arrays \n",
    "* They are the most important part of the numpy module on which everything is built on.\n",
    "* It a data type that is similar to the vector in MATLAB\n",
    "* They are similar to the list type of Pyhton but: \n",
    "  1. Elements of array are all of the same type (generally: 64bit float and int or 8bit bool)\n",
    "  2. They are fixed once defined\n",
    "\n",
    "\n",
    "        "
   ]
  },
  {
   "cell_type": "code",
   "execution_count": 45,
   "metadata": {},
   "outputs": [
    {
     "data": {
      "text/plain": [
       "array([ 0.,  0.,  0.,  0.,  0.])"
      ]
     },
     "execution_count": 45,
     "metadata": {},
     "output_type": "execute_result"
    }
   ],
   "source": [
    "import numpy as np # it is needed only once. It will be loaded in the memory afterwards\n",
    "\n",
    "a1 = np.zeros(5)\n",
    "a1"
   ]
  },
  {
   "cell_type": "code",
   "execution_count": 53,
   "metadata": {},
   "outputs": [
    {
     "name": "stdout",
     "output_type": "stream",
     "text": [
      "the array: <class 'numpy.ndarray'> \n",
      "one element: <class 'numpy.float64'>\n"
     ]
    },
    {
     "data": {
      "text/plain": [
       "(5,)"
      ]
     },
     "execution_count": 53,
     "metadata": {},
     "output_type": "execute_result"
    }
   ],
   "source": [
    "print(\"the array:\",type(a1), \"\\none element:\",type(a1[0]))\n",
    "np.shape(a1) # -> return shape of the array"
   ]
  },
  {
   "cell_type": "markdown",
   "metadata": {},
   "source": [
    "---\n",
    "\n",
    "* The array can be multidimensional : \n",
    "    + vectors: \n",
    "    ```python\n",
    "    np.zeros(5)\n",
    "    ```\n",
    "    + matrices:\n",
    "   ```python\n",
    "   np.zeros((2,3))\n",
    "   ```\n",
    "   + multiarrays:\n",
    "   ```python\n",
    "   np.zeros((2,3,4,5))\n",
    "   ```\n",
    "* However in the memory the array is unidimensional, therefore the shape of the array can be changed as will:\n",
    "    ```python\n",
    "    a1 = np.zeros(6) # -> a1 is a 1x6 vector\n",
    "    \n",
    "    a1.shape = (2,3) # -> a1 is now a 2x3 matrix\n",
    "    ```\n",
    "    The shape changes but in memory the data are the same. For matrices, **(i,j)**: \"**i**\" are the lines, and \"**j**\" are the columns"
   ]
  },
  {
   "cell_type": "code",
   "execution_count": 59,
   "metadata": {},
   "outputs": [
    {
     "data": {
      "text/plain": [
       "array([ 0.,  0.,  0.,  0.,  0.,  0.])"
      ]
     },
     "execution_count": 59,
     "metadata": {},
     "output_type": "execute_result"
    }
   ],
   "source": [
    "a1 = np.zeros(6) \n",
    "a1"
   ]
  },
  {
   "cell_type": "code",
   "execution_count": 60,
   "metadata": {},
   "outputs": [
    {
     "data": {
      "text/plain": [
       "array([[ 0.],\n",
       "       [ 0.],\n",
       "       [ 0.],\n",
       "       [ 0.],\n",
       "       [ 0.],\n",
       "       [ 0.]])"
      ]
     },
     "execution_count": 60,
     "metadata": {},
     "output_type": "execute_result"
    }
   ],
   "source": [
    "a1.shape = (6,1)\n",
    "a1"
   ]
  },
  {
   "cell_type": "code",
   "execution_count": 61,
   "metadata": {},
   "outputs": [
    {
     "data": {
      "text/plain": [
       "array([[ 0.,  0.,  0.],\n",
       "       [ 0.,  0.,  0.]])"
      ]
     },
     "execution_count": 61,
     "metadata": {},
     "output_type": "execute_result"
    }
   ],
   "source": [
    "a1.shape = (2,3)\n",
    "a1"
   ]
  },
  {
   "cell_type": "markdown",
   "metadata": {},
   "source": [
    "---\n",
    "* Creation of arrays:\n",
    "    ```python\n",
    "np.zeros() # -> create an array of zeros of the specified size\n",
    "np.identity() # or np.eyes() -> create an indentity matrix\n",
    "np.empty() # create empty array in which the elements are not initialized, the memory has been allocated\n",
    "np.array([1,2,3,4]) # create an array from a Python list \n",
    "np.array([[1,2],[3,4]]) # create an array of dimension 2 from a list of lists\n",
    "    ```\n",
    "* Accessing and setting : as for lists\n",
    "    ```python\n",
    "    a = np.array([1,2,3,4])\n",
    "    a[0] = 2 # -> change the first element to 1\n",
    "    a[1:3] = 1 # -> set to 1 the second and third elements\n",
    "    a[:-2] = 0 # -> set to 0 all element until the previous last\n",
    "\n",
    "    b = np.array([[1,2,3,4],[-1,-2,-3,-4]])\n",
    "    b[0,:] # -> access first element through the dimension 1 (ie. lines) : the first line\n",
    "    b[:,1] # -> access second element through the dimension 2 (ie. column) : the second column \n",
    "\n",
    "    a[a>0] # -> return the subarray with the elementwise condition \n",
    "\n",
    "    ```\n"
   ]
  },
  {
   "cell_type": "code",
   "execution_count": 86,
   "metadata": {},
   "outputs": [
    {
     "name": "stdout",
     "output_type": "stream",
     "text": [
      "1. : [2 2 3 4]\n",
      "2. : [2 1 1 4]\n",
      "3. : [0 0 1 4]\n",
      "\n",
      "matrix:\n",
      "[[ 1  2  3  4]\n",
      " [-1 -2 -3 -4]] \n",
      "\n",
      "first line: [1 2 3 4]\n",
      "second column: [ 2 -2]\n"
     ]
    },
    {
     "data": {
      "text/plain": [
       "array([1, 4])"
      ]
     },
     "execution_count": 86,
     "metadata": {},
     "output_type": "execute_result"
    }
   ],
   "source": [
    "a = np.array([1,2,3,4])\n",
    "a[0] = 2\n",
    "print(\"1. :\",a)\n",
    "a[1:3] = 1\n",
    "print(\"2. :\",a)\n",
    "a[:-2] = 0\n",
    "print(\"3. :\",a)\n",
    "\n",
    "print(\"\\nmatrix:\")\n",
    "b = np.array([[1,2,3,4],[-1,-2,-3,-4]])\n",
    "print(b,\"\\n\")\n",
    "print(\"first line:\", b[0,:])\n",
    "print(\"second column:\",b[:,1])\n",
    "\n",
    "a[a>0]"
   ]
  },
  {
   "cell_type": "markdown",
   "metadata": {},
   "source": [
    "---\n",
    "* Operations on the arrays:\n",
    "   ```python\n",
    "a.T # -> transposition\n",
    "a.shape # -> return the current shape\n",
    "a.ndim # -> return the dimensions\n",
    "a.flatten() # -> return a collasped array of 1 dimension\n",
    "a.conj() # -> return complex conjugate\n",
    "a.cumsum() # -> return the cumulative sum of each element in place\n",
    "a.cumprod() # -> return the cumulative product of each element in place\n",
    "a.sum() # -> sum of all elements\n",
    "a.prod() # -> prod of all elements\n",
    "a.mean(), a.var(), a.std() # -> return the mean, variance and standard variation of the array\n",
    "   ```\n",
    "   \n",
    "   The mathematical operations (+, -, \\*, /, \\*\\*)  on the arrays are done **element-wise** on the arrays ! \n",
    "   + Remark:\n",
    "      The multiplication **\\*** is not a matrix multiplication ! In python >3.5 \"@\", **A@B** is the symbol for matrix multiplication, otherwise it is **np.dot(A,B)** \n",
    "   \n",
    "   ```python\n",
    "   a * 10 # -> scalar multiplication to each element\n",
    "   a + 10 # -> scalar addition to each element\n",
    "   a + b # array addition\n",
    "   a / b # array division\n",
    "   np.exp(a) # return the exponential of the array\n",
    "   np.sin(a) # return the sine of the array\n",
    "   np.dot(a, b) # or a @ b -> return the inner product\n",
    "   np.einsum('ij,kj->ik', a, b)  # Einstein convention\n",
    "   np.outer(a, b) # return the outer product\n",
    "   ```"
   ]
  },
  {
   "cell_type": "code",
   "execution_count": 94,
   "metadata": {},
   "outputs": [
    {
     "name": "stdout",
     "output_type": "stream",
     "text": [
      "[[ 1  2  2  3  3  4  5]\n",
      " [-1 -2 -2 -3 -3 -4 -5]]\n",
      "[[ 1 -1]\n",
      " [ 2 -2]\n",
      " [ 2 -2]\n",
      " [ 3 -3]\n",
      " [ 3 -3]\n",
      " [ 4 -4]\n",
      " [ 5 -5]]\n"
     ]
    }
   ],
   "source": [
    "a2 = np.array([[1,2,2,3,3,4,5],[-1,-2,-2,-3,-3,-4,-5]])\n",
    "print(a2)\n",
    "print(a2.T)"
   ]
  },
  {
   "cell_type": "code",
   "execution_count": 106,
   "metadata": {},
   "outputs": [
    {
     "name": "stdout",
     "output_type": "stream",
     "text": [
      "cum sum: [ 1  3  5  8 11 15 20 19 17 15 12  9  5  0]\n",
      "sum:  0\n",
      "\n",
      "scalar prod :\n",
      " [[ 10  20  20  30  30  40  50]\n",
      " [-10 -20 -20 -30 -30 -40 -50]]\n",
      "\n",
      "scalar sum  :\n",
      " [[11 12 12 13 13 14 15]\n",
      " [ 9  8  8  7  7  6  5]]\n"
     ]
    }
   ],
   "source": [
    "print(\"cum sum:\",a2.cumsum())\n",
    "print(\"sum: \", a2.sum())\n",
    "print(\"\\nscalar prod :\\n\",a2*10)\n",
    "print(\"\\nscalar sum  :\\n\",a2+10)"
   ]
  },
  {
   "cell_type": "code",
   "execution_count": 114,
   "metadata": {},
   "outputs": [
    {
     "name": "stdout",
     "output_type": "stream",
     "text": [
      "[[1 1 1 1 1 1 1]\n",
      " [2 2 2 2 2 2 2]]\n",
      "\n",
      " array sum :\n",
      " [[ 2  3  3  4  4  5  6]\n",
      " [ 1  0  0 -1 -1 -2 -3]]\n",
      "\n",
      " array prod :\n",
      " [[  1   2   2   3   3   4   5]\n",
      " [ -2  -4  -4  -6  -6  -8 -10]]\n",
      "\n",
      " matrix prod :\n",
      " [[ 20  40]\n",
      " [-20 -40]]\n",
      "\n",
      " outer prod :\n",
      " [[1 1 1 1 1 1 1]\n",
      " [2 2 2 2 2 2 2]\n",
      " [2 2 2 2 2 2 2]\n",
      " [3 3 3 3 3 3 3]\n",
      " [3 3 3 3 3 3 3]\n",
      " [4 4 4 4 4 4 4]\n",
      " [5 5 5 5 5 5 5]]\n"
     ]
    }
   ],
   "source": [
    "b2 = np.array([[1,1,1,1,1,1,1],[2,2,2,2,2,2,2]])\n",
    "print(b2)\n",
    "print(\"\\n array sum :\\n\",a2+b2)\n",
    "print(\"\\n array prod :\\n\",a2*b2)\n",
    "print(\"\\n matrix prod :\\n\",a2@b2.T)\n",
    "print(\"\\n outer prod :\\n\",np.outer(a2[0,:],b2[0,:]))"
   ]
  },
  {
   "cell_type": "markdown",
   "metadata": {
    "collapsed": true
   },
   "source": [
    "---\n",
    "\n",
    "## Matplotlib \n",
    "\n",
    "- It is excellent library for high quality 2D or 3D plots designed for scientific computing. \n",
    "- It allows to export in all usual formats (eps, png, pdf ...)\n",
    "- It integrates Latex syntax for text formating\n",
    "- It has much more useful tools for displaying datas\n",
    "- Two syntax : \n",
    "    1. Similar to MATLAB plot syntax but it is not recommended since it is depreciated.\n",
    "    \n",
    "    ```python\n",
    "       from pylab import *  \n",
    "    ```\n",
    "    \n",
    "    2. A Python syntax based on object oriented syntax.\n",
    "    \n",
    "    ```python\n",
    "       import matplotlib.pyplot as plt\n",
    "    ```    \n",
    "    \n"
   ]
  },
  {
   "cell_type": "code",
   "execution_count": 1,
   "metadata": {},
   "outputs": [
    {
     "data": {
      "image/png": "[encoded data removed]",
      "text/plain": [
       "<matplotlib.figure.Figure at 0x7fb7b01d1160>"
      ]
     },
     "metadata": {},
     "output_type": "display_data"
    }
   ],
   "source": [
    "from pylab import *  # Deprecated -> Bad way\n",
    "x = linspace(0, 10, 200)\n",
    "y = sin(x)\n",
    "plot(x, y, 'b-', linewidth=2)\n",
    "show()"
   ]
  },
  {
   "cell_type": "code",
   "execution_count": 2,
   "metadata": {},
   "outputs": [
    {
     "data": {
      "image/png": "[encoded data removed]",
      "text/plain": [
       "<matplotlib.figure.Figure at 0x7fb7874d6a58>"
      ]
     },
     "metadata": {},
     "output_type": "display_data"
    }
   ],
   "source": [
    "import matplotlib.pyplot as plt # -> Better way\n",
    "import numpy as np\n",
    "x = np.linspace(0, 10, 200)\n",
    "y = np.sin(x)\n",
    "plt.plot(x, y, 'b-', linewidth=2)\n",
    "plt.show()"
   ]
  },
  {
   "cell_type": "markdown",
   "metadata": {},
   "source": [
    "---\n",
    "\n",
    "### Syntax of Matplotlib\n",
    "\n",
    "- First you can define a figure canvas in which a plot will be included (the size of the figure is in inches):\n",
    "```python\n",
    "    fig = plt.figure(figsize=(5, 2))\n",
    "```\n",
    "- Then axes of the plot can be added to the figure\n",
    "```python\n",
    "    ax = fig.subplots()\n",
    "```\n",
    "\n",
    "\n",
    "- This can be done in once. Also array of multiple plots can be also obtained as such: \n",
    "```python\n",
    "    fig, ax = plt.subplots(3, 2, figsize=(5, 2)) # -> return a figure of 3x2 plots of 5in x 2in and provide the list of axes of each 3x2 plot  \n",
    "```\n",
    "\n",
    "- The axes define what kind of plot will be used :\n",
    "    + ax.plot(x,y) -&#9658; 1D plot in line\n",
    "    + ax.scatter(x,y) -&#9658; 1D/2D scatter plot\n",
    "    + ax.pcolormesh(x,y,z) -&#9658; 2D color plot\n",
    "    + ax.contour(x,y,z) -&#9658; 2D contour line\n",
    "    + ax.contourf(x,y,z) -&#9658; 2D filled contour\n",
    "    + ax.hist(x, bins=50) -&#9658; 1D histogram\n",
    "    + ax.hist2d(x,y) -&#9658; 2D histogram\n",
    "    \n",
    "- And plot properties can be also set:\n",
    "    + ax.set_xlabel() or ax.set_xlabel() -&#9658; set labels of x- or y-axe\n",
    "    + ax.xlim() or ax.ylim() -&#9658; set x or y limits\n",
    "    + ax.title() or ax.legend() -&#9658; set title or legend to the plot\n",
    "    + fig.subplot_adjust(bottom=, right=, top=, wspace=, hspace=) -&#9658; adjust the margins of the figure\n",
    "    \n",
    "#### Some examples :    "
   ]
  },
  {
   "cell_type": "code",
   "execution_count": 47,
   "metadata": {},
   "outputs": [
    {
     "data": {
      "image/png": "[encoded data removed]",
      "text/plain": [
       "<matplotlib.figure.Figure at 0x7fb77ff860f0>"
      ]
     },
     "metadata": {},
     "output_type": "display_data"
    }
   ],
   "source": [
    "import matplotlib.pyplot as plt\n",
    "import numpy as np\n",
    "def f(x, y):\n",
    "    return np.cos(x**2 + y**2) / (1 + x**2 + y**2)\n",
    "\n",
    "xgrid = np.linspace(-3, 3, 50)\n",
    "ygrid = xgrid\n",
    "x, y = np.meshgrid(xgrid, ygrid)\n",
    "z = f(x,y)\n",
    "\n",
    "x1 = np.random.uniform(-3,3,100000)\n",
    "y1 = np.random.uniform(-3,3,100000)\n",
    "\n",
    "fig1, ax1 = plt.subplots(2,2,figsize=(8,6))\n",
    "\n",
    "ax1[0][0].plot(xgrid,f(xgrid,0))\n",
    "ax1[0][1].pcolormesh(x,y,z)\n",
    "ax1[1][0].hist2d(x1,y1,weights=f(x1,y1), bins=100,cmap=\"viridis\")\n",
    "ax1[1][1].plot(ygrid,f(1,ygrid),\"-r\")\n",
    "show()"
   ]
  },
  {
   "cell_type": "markdown",
   "metadata": {},
   "source": [
    "---\n",
    "\n",
    "See https://matplotlib.org/gallery.html for more examples "
   ]
  },
  {
   "cell_type": "code",
   "execution_count": null,
   "metadata": {
    "collapsed": true
   },
   "outputs": [],
   "source": []
  }
 ],
 "metadata": {
  "kernelspec": {
   "display_name": "Python 3",
   "language": "python",
   "name": "python3"
  },
  "language_info": {
   "codemirror_mode": {
    "name": "ipython",
    "version": 3
   },
   "file_extension": ".py",
   "mimetype": "text/x-python",
   "name": "python",
   "nbconvert_exporter": "python",
   "pygments_lexer": "ipython3",
   "version": "3.5.2"
  }
 },
 "nbformat": 4,
 "nbformat_minor": 2
}
